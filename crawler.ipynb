{
 "cells": [
  {
   "cell_type": "code",
   "execution_count": 1,
   "metadata": {},
   "outputs": [],
   "source": [
    "from bs4 import BeautifulSoup\n",
    "import requests"
   ]
  },
  {
   "cell_type": "markdown",
   "metadata": {},
   "source": [
    "## 클래스\n",
    "\n",
    "### WebtoonData\n",
    "\n",
    "웹툰 하나에 해당\n",
    "\n",
    "- 제목 (title)\n",
    "- 썸네일 이미지 (url_img_thumbnail)\n",
    "\n",
    "- 작가 (author) (상세보기에서만 가져올 수 있음)\n",
    "- 작품설명 (description) (상세보기에서만 가져올 수 있음)\n",
    "\n",
    "\n",
    "### EpisodeData\n",
    "\n",
    "웹툰의 각 화 하나에 해당\n",
    "\n",
    "- 제목 (title)\n",
    "- 썸네일 이미지 (url_img_thumbnail)\n",
    "- 별점 (rating)\n",
    "- 등록일 (created_date)"
   ]
  },
  {
   "cell_type": "markdown",
   "metadata": {},
   "source": [
    "## WebtoonData목록 만들기\n",
    "\n",
    "1. `https://comic.naver.com/webtoon/weekday.nhn`의 내용을 `weekday.html`파일에 저장\n",
    "2. `weekday.html`파일을 열어 읽은 HTML을 파싱, WebtoonData인스턴스 목록을 만들어서 `webtoon_list`변수에 할당\n",
    "\n",
    "파싱에는 BeautifulSoup4 라이브러리를 사용  \n",
    "[공식문서](https://www.crummy.com/software/BeautifulSoup/bs4/doc/#css-selectors)를 참조\n",
    "\n",
    "첫 코드는\n",
    "\n",
    "```\n",
    "html = <HTML문자열>\n",
    "soup = BeautifulSoup(html, 'lxml')\n",
    "```"
   ]
  },
  {
   "cell_type": "code",
   "execution_count": null,
   "metadata": {},
   "outputs": [],
   "source": []
  }
 ],
 "metadata": {
  "kernelspec": {
   "display_name": "Python 3",
   "language": "python",
   "name": "python3"
  },
  "language_info": {
   "codemirror_mode": {
    "name": "ipython",
    "version": 3
   },
   "file_extension": ".py",
   "mimetype": "text/x-python",
   "name": "python",
   "nbconvert_exporter": "python",
   "pygments_lexer": "ipython3",
   "version": "3.6.6"
  }
 },
 "nbformat": 4,
 "nbformat_minor": 2
}
